{
 "cells": [
  {
   "cell_type": "code",
   "execution_count": 1,
   "metadata": {
    "colab": {
     "base_uri": "https://localhost:8080/"
    },
    "id": "T97TX1dSqtAv",
    "outputId": "24ee53da-5ffc-480f-8a57-96494d8410d7"
   },
   "outputs": [
    {
     "name": "stdout",
     "output_type": "stream",
     "text": [
      "Overwriting myConv.py\n"
     ]
    }
   ],
   "source": [
    "%%file myConv.py\n",
    "\n",
    "import torch\n",
    "import numpy as np\n",
    "def myConv3d(in_channels, out_channels, kernel_size, stride=1, padding=0, dilation=1, groups=1, bias=True, padding_mode='zeros'):\n",
    "  def Svertca(matrix):\n",
    "\n",
    "    #groups exeption\n",
    "    if (in_channels%groups != 0) or (out_channels%groups!=0):\n",
    "      raise Exception('in_channels and out_channels must be divisible by groups')\n",
    "\n",
    "    #генерация bias\n",
    "    if bias == True:\n",
    "      bias_val = torch.rand(out_channels)\n",
    "    else:\n",
    "      bias_val = torch.zeros(out_channels)\n",
    "\n",
    "    #padding_mode\n",
    "    if (padding_mode == 'zeros'):\n",
    "      pad = torch.nn.ZeroPad3d(padding)\n",
    "      matrix = pad(matrix)\n",
    "    if (padding_mode == 'reflect'):\n",
    "      pad = torch.nn.ReflectionPad3d(padding)\n",
    "      matrix = pad(matrix)\n",
    "    if (padding_mode == 'replicate'):\n",
    "      pad = torch.nn.ReplicationPad3d(padding)\n",
    "      matrix = pad(matrix)\n",
    "    if (padding_mode == 'circular'):\n",
    "      pad = torch.nn.CircularPad3d(padding)\n",
    "      matrix = pad(matrix)\n",
    "\n",
    "    #генерация ядра\n",
    "    if type(kernel_size) == tuple:\n",
    "      filter = torch.rand(out_channels, in_channels//groups, kernel_size[0], kernel_size[1], kernel_size[2])\n",
    "    if type(kernel_size) == int:\n",
    "      filter = torch.rand(out_channels, in_channels//groups, kernel_size, kernel_size, kernel_size)\n",
    "\n",
    "    #filter = b\n",
    "    # bias_val = bi\n",
    "\n",
    "    llist = []\n",
    "    for l in range(out_channels):\n",
    "      feature_map = np.array([]) #генерация пустой feature-map\n",
    "      for k in range (0, matrix.shape[1]-((filter.shape[2]-1)*dilation+1)+1, stride):\n",
    "        for i in range (0, matrix.shape[2]-((filter.shape[3]-1)*dilation+1)+1, stride): #(filter.size - 1)*dilation + 1 при delation\n",
    "          for j in range (0, matrix.shape[3]-((filter.shape[4]-1)*dilation+1)+1, stride):\n",
    "            summa = 0\n",
    "            for c in range (in_channels//groups): #groups\n",
    "              if groups>1:\n",
    "                val = matrix[l*(in_channels//groups)+c][k:k+(filter.shape[2]-1)*dilation+1:dilation, i:i+(filter.shape[3]-1)*dilation+1:dilation, j:j+(filter.shape[4]-1)*dilation+1:dilation]\n",
    "              else:\n",
    "                val = matrix[c][k:k+(filter.shape[2]-1)*dilation+1:dilation, i:i+(filter.shape[3]-1)*dilation+1:dilation, j:j+(filter.shape[4]-1)*dilation+1:dilation]\n",
    "              mini_sum = (val*filter[l][c]).sum()\n",
    "              summa = summa + mini_sum\n",
    "            feature_map = np.append(feature_map, float(summa + bias_val[l])) #bias\n",
    "\n",
    "      llist.append(feature_map.reshape((matrix.shape[1]-((filter.shape[2]-1)*dilation+1))//stride+1, (matrix.shape[2]-((filter.shape[3]-1)*dilation+1))//stride+1, (matrix.shape[3]-((filter.shape[4]-1)*dilation+1))//stride+1))\n",
    "\n",
    "    return np.array(llist), torch.tensor(np.array(filter)), torch.tensor(np.array(bias_val))\n",
    "\n",
    "  return Svertca"
   ]
  },
  {
   "cell_type": "code",
   "execution_count": 2,
   "metadata": {
    "colab": {
     "base_uri": "https://localhost:8080/"
    },
    "id": "gdJOmWNYweCy",
    "outputId": "5f5d5772-b3ae-4f2b-de85-d5916981cd25"
   },
   "outputs": [
    {
     "name": "stdout",
     "output_type": "stream",
     "text": [
      "Overwriting conftest.py\n"
     ]
    }
   ],
   "source": [
    "%%file conftest.py\n",
    "\n",
    "from pytest import fixture\n",
    "import requests\n",
    "\n",
    "@fixture\n",
    "def session():\n",
    "  s = requests.Session()\n",
    "  s.headers.update({\"User-Agent\": \"pytest requests\"})\n",
    "  s.verify = True\n",
    "  yield s\n",
    "  s.close()"
   ]
  },
  {
   "cell_type": "code",
   "execution_count": 3,
   "metadata": {
    "colab": {
     "base_uri": "https://localhost:8080/"
    },
    "id": "cPu7qKERwghb",
    "outputId": "eaf221dc-d500-4544-c258-61cf4af7765b"
   },
   "outputs": [
    {
     "name": "stdout",
     "output_type": "stream",
     "text": [
      "Overwriting test_http.py\n"
     ]
    }
   ],
   "source": [
    "%%file test_http.py\n",
    "\n",
    "import numpy as np\n",
    "import torch\n",
    "import sys\n",
    "import os\n",
    "\n",
    "py_file_location = \"/content/myConv.py\"\n",
    "sys.path.append(os.path.abspath(py_file_location))\n",
    "from myConv import myConv3d\n",
    "\n",
    "tensor1 = torch.rand(4, 6, 6, 6)\n",
    "tensor2 = torch.rand(3, 24, 28, 20)\n",
    "tensor3 = torch.rand(1, 1, 1, 1)\n",
    "\n",
    "\n",
    "def test_1(session):\n",
    "  myFunction = myConv3d(in_channels=4, out_channels=2, kernel_size=3, stride=1, padding=0, dilation=1, groups=2, bias=True, padding_mode='zeros')\n",
    "  result, kernel, bias_val = myFunction(tensor1)\n",
    "  torchFunction = torch.nn.Conv3d(in_channels=4, out_channels=2, kernel_size=3, stride=1, padding=0, dilation=1, groups=2, bias=True, padding_mode='zeros')\n",
    "  torchFunction.weight.data = kernel\n",
    "  torchFunction.bias.data = bias_val\n",
    "  myResult = str(np.round(result, 2))\n",
    "  torchResult = str(np.round(np.array(torchFunction(tensor1).data), 2))\n",
    "  assert torchResult == myResult\n",
    "\n",
    "\n",
    "def test_2(session):\n",
    "  myFunction2 = myConv3d(in_channels=3, out_channels=1, kernel_size=3, stride=1, padding=0, dilation=2, groups=1, bias=True, padding_mode='zeros')\n",
    "  result2, kernel2, bias_val2 = myFunction2(tensor2)\n",
    "  torchFunction2 = torch.nn.Conv3d(in_channels=3, out_channels=1, kernel_size=3, stride=1, padding=0, dilation=2, groups=1, bias=True, padding_mode='zeros')\n",
    "  torchFunction2.weight.data = kernel2\n",
    "  torchFunction2.bias.data = bias_val2\n",
    "  myResult = str(np.round(result2, 2))\n",
    "  torchResult = str(np.round(np.array(torchFunction2(tensor2).data), 2))\n",
    "  assert torchResult == myResult\n",
    "\n",
    "\n",
    "def test_3(session):\n",
    "  myFunction3 = myConv3d(in_channels=1, out_channels=1, kernel_size=1, stride=1, padding=0, dilation=1, groups=1, bias=True, padding_mode='zeros')\n",
    "  result3, kernel3, bias_val3 = myFunction3(tensor3)\n",
    "  torchFunction3 = torch.nn.Conv3d(in_channels=1, out_channels=1, kernel_size=1, stride=1, padding=0, dilation=1, groups=1, bias=True, padding_mode='zeros')\n",
    "  torchFunction3.weight.data = kernel3\n",
    "  torchFunction3.bias.data = bias_val3\n",
    "  myResult = str(np.round(result3, 2))\n",
    "  torchResult = str(np.round(np.array(torchFunction3(tensor3).data), 2))\n",
    "  assert torchResult == myResult\n",
    "\n"
   ]
  },
  {
   "cell_type": "code",
   "execution_count": 4,
   "metadata": {
    "colab": {
     "base_uri": "https://localhost:8080/"
    },
    "id": "MW-ymQhxxJgW",
    "outputId": "d23dcfac-7e3b-4dea-89f0-3bea1ded3e27"
   },
   "outputs": [
    {
     "name": "stdout",
     "output_type": "stream",
     "text": [
      "============================= test session starts =============================\n",
      "platform win32 -- Python 3.9.13, pytest-7.1.2, pluggy-1.0.0\n",
      "rootdir: C:\\Users\\arina\\smz\n",
      "plugins: anyio-3.5.0\n",
      "collected 3 items\n",
      "\n",
      "test_http.py ...                                                         [100%]\n",
      "\n",
      "============================== 3 passed in 7.60s ==============================\n"
     ]
    }
   ],
   "source": [
    "!pytest"
   ]
  },
  {
   "cell_type": "code",
   "execution_count": 6,
   "metadata": {
    "colab": {
     "base_uri": "https://localhost:8080/"
    },
    "id": "QITxVVZix04q",
    "outputId": "98b4bfe8-bdca-4593-89fb-2bfdced46597"
   },
   "outputs": [
    {
     "name": "stdout",
     "output_type": "stream",
     "text": [
      "[[[[52.72069168 55.3234787 ]\n",
      "   [54.61018372 57.5618515 ]]\n",
      "\n",
      "  [[55.02480316 53.92865753]\n",
      "   [57.3835144  57.74442291]]]\n",
      "\n",
      "\n",
      " [[[68.68241882 68.69812012]\n",
      "   [72.49376678 69.58637238]]\n",
      "\n",
      "  [[67.27288818 66.48874664]\n",
      "   [69.54272461 67.63152313]]]]\n",
      "===================================\n",
      "[[[[52.720707 55.323494]\n",
      "   [54.610172 57.56184 ]]\n",
      "\n",
      "  [[55.02482  53.928654]\n",
      "   [57.38351  57.744404]]]\n",
      "\n",
      "\n",
      " [[[68.6824   68.69811 ]\n",
      "   [72.49377  69.58638 ]]\n",
      "\n",
      "  [[67.27287  66.48874 ]\n",
      "   [69.54273  67.63153 ]]]]\n"
     ]
    }
   ],
   "source": [
    "import os, sys\n",
    "import torch\n",
    "import numpy as np\n",
    "\n",
    "py_file_location = \"/content/myConv.py\"\n",
    "sys.path.append(os.path.abspath(py_file_location))\n",
    "from myConv import myConv3d\n",
    "\n",
    "tensor1 = torch.rand(4, 6, 6, 6)\n",
    "\n",
    "myFunction = myConv3d(in_channels=4, out_channels=2, kernel_size=5, stride=1, padding=0, dilation=1, groups=2, bias=True, padding_mode='zeros')\n",
    "result, kernel, bias_val = myFunction(tensor1)\n",
    "torchFunction = torch.nn.Conv3d(in_channels=4, out_channels=2, kernel_size=5, stride=1, padding=0, dilation=1, groups=2, bias=True, padding_mode='zeros')\n",
    "torchFunction.weight.data = kernel\n",
    "torchFunction.bias.data = bias_val\n",
    "\n",
    "print(result)\n",
    "print('===================================')\n",
    "print(np.array(torchFunction(tensor1).data))"
   ]
  },
  {
   "cell_type": "code",
   "execution_count": 7,
   "metadata": {
    "colab": {
     "base_uri": "https://localhost:8080/"
    },
    "id": "a9gTKH9eyefZ",
    "outputId": "ed1f4add-1606-4ee9-f914-39139f2cf8fe"
   },
   "outputs": [
    {
     "name": "stdout",
     "output_type": "stream",
     "text": [
      "[[[[21.19206429 20.96116829 21.67557716 19.97020721 21.68794823\n",
      "    21.491045  ]\n",
      "   [20.8784523  21.14939499 20.0027256  19.67279625 19.60270119\n",
      "    19.87233925]\n",
      "   [21.72640991 20.41779137 19.98821068 18.83367348 19.03825378\n",
      "    18.81828499]\n",
      "   [19.60969734 22.45463371 20.21418762 19.45671272 24.25629997\n",
      "    21.73147964]\n",
      "   [19.55188942 21.12685204 18.52770996 21.60019875 19.05060005\n",
      "    21.0271244 ]]\n",
      "\n",
      "  [[20.25897408 17.38823128 23.63492203 19.73931885 19.70783043\n",
      "    21.11930466]\n",
      "   [22.65858459 20.94630623 21.58201027 22.41709709 20.8094883\n",
      "    19.98189926]\n",
      "   [20.1873188  18.33280563 18.43042564 17.3616333  17.30643654\n",
      "    20.57359886]\n",
      "   [19.03752136 17.93053627 23.14079094 20.74354935 19.57504082\n",
      "    21.04667664]\n",
      "   [21.47668648 20.46988487 20.73752975 23.50160599 21.05413437\n",
      "    18.10944939]]\n",
      "\n",
      "  [[21.80059052 24.17033958 20.56357002 20.95233917 22.75702286\n",
      "    20.1516819 ]\n",
      "   [21.46239471 20.67054939 21.59744453 22.25643349 20.27157402\n",
      "    21.83917236]\n",
      "   [20.54981041 19.30244827 19.90680313 19.57962036 20.03744316\n",
      "    19.94043541]\n",
      "   [23.04332352 23.73106956 19.73429298 22.45349693 21.78289223\n",
      "    21.12010765]\n",
      "   [20.92450142 22.18434143 21.60561943 20.96432686 20.91885185\n",
      "    19.37260246]]\n",
      "\n",
      "  [[19.26411247 22.89145279 21.42390633 19.61897087 21.63858604\n",
      "    20.41862297]\n",
      "   [20.51360512 21.2965107  21.53025055 21.35877037 21.73629951\n",
      "    21.47654152]\n",
      "   [21.56269646 19.76416779 20.3904171  19.71147728 19.94107819\n",
      "    19.70490074]\n",
      "   [19.94480324 23.63310242 21.42740631 20.18071556 22.13523483\n",
      "    22.36491966]\n",
      "   [21.85851288 18.65205765 21.48830223 23.32472038 19.23272896\n",
      "    21.66178322]]]]\n",
      "===================================\n",
      "[[[[21.192062 20.961168 21.675585 19.97021  21.687948 21.491043]\n",
      "   [20.878454 21.149395 20.002728 19.672796 19.602705 19.872345]\n",
      "   [21.726414 20.417788 19.988209 18.83367  19.03825  18.818281]\n",
      "   [19.609697 22.454626 20.214191 19.456715 24.256306 21.73148 ]\n",
      "   [19.551888 21.126854 18.527712 21.600199 19.050604 21.027128]]\n",
      "\n",
      "  [[20.258972 17.388231 23.634924 19.739319 19.707827 21.1193  ]\n",
      "   [22.658585 20.946304 21.582008 22.417103 20.809496 19.9819  ]\n",
      "   [20.18732  18.33281  18.430428 17.361633 17.306437 20.5736  ]\n",
      "   [19.037521 17.93054  23.140789 20.74355  19.575047 21.04667 ]\n",
      "   [21.47668  20.469887 20.737532 23.501606 21.054138 18.10945 ]]\n",
      "\n",
      "  [[21.80059  24.170343 20.563572 20.952341 22.757023 20.151688]\n",
      "   [21.462395 20.670551 21.597443 22.256435 20.27158  21.839167]\n",
      "   [20.549812 19.302446 19.906803 19.579622 20.037445 19.940434]\n",
      "   [23.043327 23.731077 19.734295 22.453497 21.782894 21.120106]\n",
      "   [20.9245   22.184345 21.60562  20.96433  20.918854 19.372602]]\n",
      "\n",
      "  [[19.264112 22.89145  21.423904 19.618967 21.638582 20.418629]\n",
      "   [20.513609 21.29651  21.530247 21.358772 21.736301 21.47654 ]\n",
      "   [21.562696 19.76417  20.390406 19.711483 19.941074 19.704905]\n",
      "   [19.944801 23.633106 21.427406 20.180714 22.135235 22.364923]\n",
      "   [21.858515 18.652061 21.488304 23.32472  19.232727 21.661787]]]]\n"
     ]
    }
   ],
   "source": [
    "py_file_location = \"/content/myConv.py\"\n",
    "sys.path.append(os.path.abspath(py_file_location))\n",
    "from myConv import myConv3d\n",
    "\n",
    "tensor2 = torch.rand(3, 10, 11, 12)\n",
    "\n",
    "myFunction2 = myConv3d(in_channels=3, out_channels=1, kernel_size=3, stride=1, padding=0, dilation=3, groups=1, bias=True, padding_mode='zeros')\n",
    "result2, kernel2, bias_val2 = myFunction2(tensor2)\n",
    "torchFunction2 = torch.nn.Conv3d(in_channels=3, out_channels=1, kernel_size=3, stride=1, padding=0, dilation=3, groups=1, bias=True, padding_mode='zeros')\n",
    "torchFunction2.weight.data = kernel2\n",
    "torchFunction2.bias.data = bias_val2\n",
    "\n",
    "print(result2)\n",
    "print('===================================')\n",
    "print(np.array(torchFunction2(tensor2).data))"
   ]
  },
  {
   "cell_type": "code",
   "execution_count": 8,
   "metadata": {
    "colab": {
     "base_uri": "https://localhost:8080/"
    },
    "id": "2xfl93rT0FsM",
    "outputId": "929b3398-8dcb-400a-eb49-a123a753b360"
   },
   "outputs": [
    {
     "name": "stdout",
     "output_type": "stream",
     "text": [
      "[[[[0.20939991]]]]\n",
      "===================================\n",
      "[[[[0.20939991]]]]\n"
     ]
    }
   ],
   "source": [
    "py_file_location = \"/content/myConv.py\"\n",
    "sys.path.append(os.path.abspath(py_file_location))\n",
    "from myConv import myConv3d\n",
    "\n",
    "tensor3 = torch.rand(1, 1, 1, 1)\n",
    "\n",
    "myFunction3 = myConv3d(in_channels=1, out_channels=1, kernel_size=1, stride=1, padding=0, dilation=1, groups=1, bias=True, padding_mode='zeros')\n",
    "result3, kernel3, bias_val3 = myFunction3(tensor3)\n",
    "torchFunction3 = torch.nn.Conv3d(in_channels=1, out_channels=1, kernel_size=1, stride=1, padding=0, dilation=1, groups=1, bias=True, padding_mode='zeros')\n",
    "torchFunction3.weight.data = kernel3\n",
    "torchFunction3.bias.data = bias_val3\n",
    "\n",
    "print(result3)\n",
    "print('===================================')\n",
    "print(np.array(torchFunction3(tensor3).data))"
   ]
  },
  {
   "cell_type": "code",
   "execution_count": 9,
   "metadata": {
    "colab": {
     "base_uri": "https://localhost:8080/"
    },
    "id": "dlsMqC0V0Svo",
    "outputId": "a9d75269-0e66-4f0f-951a-dfa7713cc0d2"
   },
   "outputs": [
    {
     "name": "stdout",
     "output_type": "stream",
     "text": [
      "[[[[ 3.24746704  4.17873526]\n",
      "   [ 6.36931181  9.53795338]\n",
      "   [ 5.61576605  7.87391281]]\n",
      "\n",
      "  [[ 5.19947815  9.81392956]\n",
      "   [ 9.97983456 16.55055809]\n",
      "   [ 9.16078663 13.46387577]]]\n",
      "\n",
      "\n",
      " [[[ 5.67966461  7.78256416]\n",
      "   [ 7.98002195  9.16406918]\n",
      "   [ 7.838346    9.29517841]]\n",
      "\n",
      "  [[ 7.27510881  9.51250744]\n",
      "   [ 9.04335785 13.40098286]\n",
      "   [10.1187849  13.60484982]]]]\n",
      "===================================\n",
      "[[[[ 3.2474666  4.178735 ]\n",
      "   [ 6.369312   9.537954 ]\n",
      "   [ 5.6157656  7.8739133]]\n",
      "\n",
      "  [[ 5.1994777  9.81393  ]\n",
      "   [ 9.979834  16.550556 ]\n",
      "   [ 9.160786  13.463878 ]]]\n",
      "\n",
      "\n",
      " [[[ 5.6796646  7.782564 ]\n",
      "   [ 7.9800224  9.164068 ]\n",
      "   [ 7.838347   9.295178 ]]\n",
      "\n",
      "  [[ 7.275109   9.512507 ]\n",
      "   [ 9.043357  13.400985 ]\n",
      "   [10.118784  13.60485  ]]]]\n"
     ]
    }
   ],
   "source": [
    "py_file_location = \"/content/myConv.py\"\n",
    "sys.path.append(os.path.abspath(py_file_location))\n",
    "from myConv import myConv3d\n",
    "\n",
    "tensor4 = torch.rand(4, 5, 8, 5)\n",
    "\n",
    "myFunction4 = myConv3d(in_channels=4, out_channels=2, kernel_size=3, stride=3, padding=1, dilation=1, groups=2, bias=True, padding_mode='zeros')\n",
    "result4, kernel4, bias_val4 = myFunction4(tensor4)\n",
    "torchFunction4 = torch.nn.Conv3d(in_channels=4, out_channels=2, kernel_size=3, stride=3, padding=1, dilation=1, groups=2, bias=True, padding_mode='zeros')\n",
    "torchFunction4.weight.data = kernel4\n",
    "torchFunction4.bias.data = bias_val4\n",
    "\n",
    "print(result4)\n",
    "print('===================================')\n",
    "print(np.array(torchFunction4(tensor4).data))"
   ]
  },
  {
   "cell_type": "code",
   "execution_count": null,
   "metadata": {},
   "outputs": [],
   "source": []
  }
 ],
 "metadata": {
  "colab": {
   "provenance": []
  },
  "kernelspec": {
   "display_name": "Python 3 (ipykernel)",
   "language": "python",
   "name": "python3"
  },
  "language_info": {
   "codemirror_mode": {
    "name": "ipython",
    "version": 3
   },
   "file_extension": ".py",
   "mimetype": "text/x-python",
   "name": "python",
   "nbconvert_exporter": "python",
   "pygments_lexer": "ipython3",
   "version": "3.9.13"
  }
 },
 "nbformat": 4,
 "nbformat_minor": 1
}

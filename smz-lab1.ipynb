{
 "cells": [
  {
   "cell_type": "code",
   "execution_count": 1,
   "metadata": {
    "colab": {
     "base_uri": "https://localhost:8080/"
    },
    "id": "K0ilFa8ZoMJJ",
    "outputId": "33da1478-a4ce-4a15-ce4a-554516083c4f"
   },
   "outputs": [
    {
     "name": "stdout",
     "output_type": "stream",
     "text": [
      "Overwriting myConv.py\n"
     ]
    }
   ],
   "source": [
    "%%file myConv.py\n",
    "\n",
    "import torch\n",
    "import numpy as np\n",
    "def myConv2d(in_channels, out_channels, kernel_size, stride=1, padding=0, dilation=1, groups=1, bias=True, padding_mode='zeros'):\n",
    "  def Svertca(matrix):\n",
    "\n",
    "    #groups exeption\n",
    "    if (in_channels%groups != 0) or (out_channels%groups!=0):\n",
    "      raise Exception('in_channels and out_channels must be divisible by groups')\n",
    "\n",
    "    #генерация bias\n",
    "    if bias == True:\n",
    "      bias_val = torch.rand(out_channels)\n",
    "    else:\n",
    "      bias_val = torch.zeros(out_channels)\n",
    "\n",
    "    #padding_mode\n",
    "    if (padding_mode == 'zeros'):\n",
    "      pad = torch.nn.ZeroPad2d(padding)\n",
    "      matrix = pad(matrix)\n",
    "    if (padding_mode == 'reflect'):\n",
    "      pad = torch.nn.ReflectionPad2d(padding)\n",
    "      matrix = pad(matrix)\n",
    "    if (padding_mode == 'replicate'):\n",
    "      pad = torch.nn.ReplicationPad2d(2)\n",
    "      matrix = pad(matrix)\n",
    "    if (padding_mode == 'circular'):\n",
    "      pad = torch.nn.CircularPad2d(padding)\n",
    "      matrix = pad(matrix)\n",
    "\n",
    "    #генерация ядра\n",
    "    if type(kernel_size) == tuple:\n",
    "      filter = torch.rand(out_channels, in_channels//groups, kernel_size[0], kernel_size[1])\n",
    "    if type(kernel_size) == int:\n",
    "      filter = torch.rand(out_channels, in_channels//groups, kernel_size, kernel_size)\n",
    "\n",
    "    #filter = b\n",
    "    # bias_val = bi\n",
    "\n",
    "    llist = []\n",
    "    for l in range(out_channels):\n",
    "      feature_map = np.array([]) #генерация пустой feature-map\n",
    "      for i in range (0, matrix.shape[1]-((filter.shape[2]-1)*dilation+1)+1, stride): #(filter.size - 1)*dilation + 1 при delation\n",
    "        for j in range (0, matrix.shape[2]-((filter.shape[3]-1)*dilation+1)+1, stride):\n",
    "          summa = 0\n",
    "          for c in range (in_channels//groups): #groups\n",
    "            if groups>1:\n",
    "              val = matrix[l*(in_channels//groups)+c][i:i+(filter.shape[2]-1)*dilation+1:dilation, j:j+(filter.shape[3]-1)*dilation+1:dilation]\n",
    "            else:\n",
    "              val = matrix[c][i:i+(filter.shape[2]-1)*dilation+1:dilation, j:j+(filter.shape[3]-1)*dilation+1:dilation]\n",
    "            mini_sum = (val*filter[l][c]).sum()\n",
    "            summa = summa + mini_sum\n",
    "          feature_map = np.append(feature_map, float(summa + bias_val[l])) #bias\n",
    "\n",
    "      llist.append(feature_map.reshape((matrix.shape[1]-((filter.shape[2]-1)*dilation+1))//stride+1, (matrix.shape[2]-((filter.shape[3]-1)*dilation+1))//stride+1))\n",
    "\n",
    "    return np.array(llist), np.array(filter), np.array(bias_val)\n",
    "\n",
    "  return Svertca"
   ]
  },
  {
   "cell_type": "code",
   "execution_count": 2,
   "metadata": {
    "colab": {
     "base_uri": "https://localhost:8080/"
    },
    "id": "qSTvjZg0oh5O",
    "outputId": "ec69c406-d64e-4c1b-aa18-b83cde0e4927"
   },
   "outputs": [
    {
     "name": "stdout",
     "output_type": "stream",
     "text": [
      "Overwriting conftest.py\n"
     ]
    }
   ],
   "source": [
    "%%file conftest.py\n",
    "\n",
    "from pytest import fixture\n",
    "import requests\n",
    "\n",
    "@fixture\n",
    "def session():\n",
    "  s = requests.Session()\n",
    "  s.headers.update({\"User-Agent\": \"pytest requests\"})\n",
    "  s.verify = True\n",
    "  yield s\n",
    "  s.close()"
   ]
  },
  {
   "cell_type": "code",
   "execution_count": 3,
   "metadata": {
    "colab": {
     "base_uri": "https://localhost:8080/"
    },
    "id": "ez4wMeLWoPx6",
    "outputId": "3a302f9f-be65-4fb3-8a37-776998a6126f"
   },
   "outputs": [
    {
     "name": "stdout",
     "output_type": "stream",
     "text": [
      "Overwriting test_http.py\n"
     ]
    }
   ],
   "source": [
    "%%file test_http.py\n",
    "\n",
    "import numpy as np\n",
    "import torch\n",
    "import sys\n",
    "import os\n",
    "\n",
    "py_file_location = \"/content/myConv.py\"\n",
    "sys.path.append(os.path.abspath(py_file_location))\n",
    "from myConv import myConv2d\n",
    "\n",
    "tensor1 = torch.rand(4, 5, 6)\n",
    "tensor2 = torch.rand(3, 28, 28)\n",
    "tensor3 = torch.rand(1, 1, 1)\n",
    "\n",
    "\n",
    "def test_1(session):\n",
    "  myFunction = myConv2d(in_channels=4, out_channels=2, kernel_size=3, stride=1, padding=0, dilation=1, groups=2, bias=True, padding_mode='zeros')\n",
    "  result, kernel, bias_val = myFunction(tensor1)\n",
    "  torchFunction = torch.nn.Conv2d(in_channels=4, out_channels=2, kernel_size=3, stride=1, padding=0, dilation=1, groups=2, bias=True, padding_mode='zeros')\n",
    "  torchFunction.weight.data = torch.tensor(kernel)\n",
    "  torchFunction.bias.data = torch.tensor(bias_val)\n",
    "  myResult = str(np.round(result, 2))\n",
    "  torchResult = str(np.round(np.array(torchFunction(tensor1).data), 2))\n",
    "  assert torchResult == myResult\n",
    "\n",
    "\n",
    "def test_2(session):\n",
    "  myFunction2 = myConv2d(in_channels=3, out_channels=1, kernel_size=3, stride=1, padding=0, dilation=2, groups=1, bias=True, padding_mode='zeros')\n",
    "  result2, kernel2, bias_val2 = myFunction2(tensor2)\n",
    "  torchFunction2 = torch.nn.Conv2d(in_channels=3, out_channels=1, kernel_size=3, stride=1, padding=0, dilation=2, groups=1, bias=True, padding_mode='zeros')\n",
    "  torchFunction2.weight.data = torch.tensor(kernel2)\n",
    "  torchFunction2.bias.data = torch.tensor(bias_val2)\n",
    "  myResult = str(np.round(result2, 2))\n",
    "  torchResult = str(np.round(np.array(torchFunction2(tensor2).data), 2))\n",
    "  assert torchResult == myResult\n",
    "\n",
    "\n",
    "def test_3(session):\n",
    "  myFunction3 = myConv2d(in_channels=1, out_channels=1, kernel_size=1, stride=1, padding=0, dilation=1, groups=1, bias=True, padding_mode='zeros')\n",
    "  result3, kernel3, bias_val3 = myFunction3(tensor3)\n",
    "  torchFunction3 = torch.nn.Conv2d(in_channels=1, out_channels=1, kernel_size=1, stride=1, padding=0, dilation=1, groups=1, bias=True, padding_mode='zeros')\n",
    "  torchFunction3.weight.data = torch.tensor(kernel3)\n",
    "  torchFunction3.bias.data = torch.tensor(bias_val3)\n",
    "  myResult = str(np.round(result3, 2))\n",
    "  torchResult = str(np.round(np.array(torchFunction3(tensor3).data), 2))\n",
    "  assert torchResult == myResult\n",
    "\n"
   ]
  },
  {
   "cell_type": "code",
   "execution_count": 4,
   "metadata": {
    "colab": {
     "base_uri": "https://localhost:8080/"
    },
    "id": "4841mfWWoWUx",
    "outputId": "e0f5ba59-49f3-44e1-f59d-a2b251c0b141"
   },
   "outputs": [
    {
     "name": "stdout",
     "output_type": "stream",
     "text": [
      "============================= test session starts =============================\n",
      "platform win32 -- Python 3.9.13, pytest-7.1.2, pluggy-1.0.0\n",
      "rootdir: C:\\Users\\arina\\smz\n",
      "plugins: anyio-3.5.0\n",
      "collected 3 items\n",
      "\n",
      "test_http.py ...                                                         [100%]\n",
      "\n",
      "============================== 3 passed in 6.83s ==============================\n"
     ]
    }
   ],
   "source": [
    "!pytest"
   ]
  },
  {
   "cell_type": "code",
   "execution_count": 8,
   "metadata": {},
   "outputs": [
    {
     "name": "stdout",
     "output_type": "stream",
     "text": [
      "[[[1.24100769 1.76235616 1.84644806 1.22685492]\n",
      "  [2.98437047 6.4995079  5.23831654 2.16040158]\n",
      "  [2.70378065 5.06630135 5.60799313 2.08769846]\n",
      "  [1.12965584 1.87915885 2.81096125 1.29868186]]\n",
      "\n",
      " [[0.85043979 1.33088338 1.32333064 1.17367244]\n",
      "  [1.85647118 4.62818146 4.97800732 1.94978023]\n",
      "  [2.34088397 5.68943977 5.57706213 1.59353518]\n",
      "  [1.15338933 2.81359816 2.25473499 0.81117088]]]\n",
      "===================================\n",
      "[[[1.2410077 1.7623563 1.8464481 1.2268549]\n",
      "  [2.9843705 6.499508  5.2383165 2.1604018]\n",
      "  [2.7037807 5.0663013 5.607994  2.0876985]\n",
      "  [1.1296558 1.879159  2.8109612 1.2986819]]\n",
      "\n",
      " [[0.8504398 1.3308834 1.3233306 1.1736724]\n",
      "  [1.8564711 4.628181  4.9780073 1.9497803]\n",
      "  [2.340884  5.6894393 5.5770617 1.5935352]\n",
      "  [1.1533892 2.8135982 2.254735  0.8111709]]]\n"
     ]
    }
   ],
   "source": [
    "import numpy as np\n",
    "import torch\n",
    "import sys\n",
    "import os\n",
    "\n",
    "py_file_location = \"/content/myConv.py\"\n",
    "sys.path.append(os.path.abspath(py_file_location))\n",
    "from myConv import myConv2d\n",
    "\n",
    "tensor4 = torch.rand(4, 5, 5)\n",
    "\n",
    "myFunction4 = myConv2d(in_channels=4, out_channels=2, kernel_size=3, stride=2, padding=2, dilation=1, groups=2, bias=True, padding_mode='zeros')\n",
    "result4, kernel4, bias_val4 = myFunction4(tensor4)\n",
    "torchFunction4 = torch.nn.Conv2d(in_channels=4, out_channels=2, kernel_size=3, stride=2, padding=2, dilation=1, groups=2, bias=True, padding_mode='zeros')\n",
    "torchFunction4.weight.data = torch.tensor(kernel4)\n",
    "torchFunction4.bias.data = torch.tensor(bias_val4)\n",
    "\n",
    "print(result4)\n",
    "print('===================================')\n",
    "print(np.array(torchFunction4(tensor4).data))"
   ]
  },
  {
   "cell_type": "code",
   "execution_count": 5,
   "metadata": {
    "colab": {
     "base_uri": "https://localhost:8080/"
    },
    "id": "didgm0cXwJwO",
    "outputId": "8d8bfa94-88a8-478d-ad89-22acc36b80b6"
   },
   "outputs": [
    {
     "name": "stdout",
     "output_type": "stream",
     "text": [
      "[[[7.95807743 5.40207386 6.84529543 7.35895252]\n",
      "  [8.12699604 6.53488064 6.11109924 7.02044964]\n",
      "  [7.71687603 6.13926697 5.36437511 6.74329329]]\n",
      "\n",
      " [[5.21243382 3.98044205 4.56722546 3.94700956]\n",
      "  [4.43468094 4.32671642 3.83685684 3.98184586]\n",
      "  [3.97997761 3.50106382 4.49686432 3.51984549]]\n",
      "\n",
      " [[5.71537352 5.43403864 6.05418253 5.78864956]\n",
      "  [5.31311941 5.65596151 5.868855   4.49289322]\n",
      "  [5.5946641  5.91159487 4.91239071 4.61102772]]\n",
      "\n",
      " [[4.18876743 5.21671343 4.80044031 5.51270962]\n",
      "  [5.17841578 5.43035889 5.15033531 4.77567434]\n",
      "  [6.12616253 5.76851654 5.50071192 5.486022  ]]]\n",
      "===================================\n",
      "[[[7.958077  5.4020734 6.845296  7.3589525]\n",
      "  [8.126996  6.5348797 6.111099  7.02045  ]\n",
      "  [7.7168765 6.1392674 5.3643756 6.743293 ]]\n",
      "\n",
      " [[5.2124343 3.980442  4.5672255 3.947009 ]\n",
      "  [4.4346814 4.326716  3.8368568 3.9818463]\n",
      "  [3.9799776 3.5010638 4.4968643 3.5198455]]\n",
      "\n",
      " [[5.7153735 5.4340386 6.0541816 5.7886496]\n",
      "  [5.313119  5.655961  5.868855  4.492893 ]\n",
      "  [5.594664  5.9115944 4.9123907 4.6110277]]\n",
      "\n",
      " [[4.1887674 5.2167134 4.8004403 5.512709 ]\n",
      "  [5.178416  5.430359  5.150335  4.7756743]\n",
      "  [6.126163  5.7685165 5.500712  5.4860225]]]\n"
     ]
    }
   ],
   "source": [
    "import numpy as np\n",
    "import torch\n",
    "import sys\n",
    "import os\n",
    "\n",
    "py_file_location = \"/content/myConv.py\"\n",
    "sys.path.append(os.path.abspath(py_file_location))\n",
    "from myConv import myConv2d\n",
    "\n",
    "tensor1 = torch.rand(8, 5, 6)\n",
    "\n",
    "myFunction = myConv2d(in_channels=8, out_channels=4, kernel_size=3, stride=1, padding=0, dilation=1, groups=4, bias=True, padding_mode='zeros')\n",
    "result, kernel, bias_val = myFunction(tensor1)\n",
    "torchFunction = torch.nn.Conv2d(in_channels=8, out_channels=4, kernel_size=3, stride=1, padding=0, dilation=1, groups=4, bias=True, padding_mode='zeros')\n",
    "torchFunction.weight.data = torch.tensor(kernel)\n",
    "torchFunction.bias.data = torch.tensor(bias_val)\n",
    "\n",
    "print(result)\n",
    "print('===================================')\n",
    "print(np.array(torchFunction(tensor1).data))"
   ]
  },
  {
   "cell_type": "code",
   "execution_count": 6,
   "metadata": {
    "colab": {
     "base_uri": "https://localhost:8080/"
    },
    "id": "G6PMUwY6vxI_",
    "outputId": "e96d964a-2df6-469d-9e65-c26225c2d471"
   },
   "outputs": [
    {
     "name": "stdout",
     "output_type": "stream",
     "text": [
      "[[[ 9.4219656  10.47064114  8.05049801  8.20273113  9.50746822\n",
      "    7.2307477 ]\n",
      "  [ 9.43639374  7.60696936  8.02908421  6.88420534  9.48032951\n",
      "    7.04393435]\n",
      "  [ 9.52552128  9.40228653  7.43158674  8.48575401  9.8943758\n",
      "    7.49710989]\n",
      "  [ 9.16875935  6.58858442  8.3532362   6.96097803  9.41242695\n",
      "    7.16045523]\n",
      "  [ 8.64023495  8.5577755   8.44954586  8.76201057  9.32271767\n",
      "    8.1281786 ]\n",
      "  [ 7.80711508  6.7029109   8.34368229  7.77376366  9.18826199\n",
      "    6.84338713]]]\n",
      "===================================\n",
      "[[[ 9.421965  10.470641   8.050498   8.202731   9.507469   7.230748 ]\n",
      "  [ 9.436396   7.606969   8.029084   6.8842053  9.4803295  7.0439343]\n",
      "  [ 9.525521   9.402286   7.4315863  8.485754   9.894376   7.49711  ]\n",
      "  [ 9.16876    6.5885844  8.353235   6.960978   9.412427   7.1604557]\n",
      "  [ 8.640235   8.557776   8.449547   8.762012   9.322717   8.128179 ]\n",
      "  [ 7.8071156  6.702911   8.343682   7.773762   9.188262   6.843386 ]]]\n"
     ]
    }
   ],
   "source": [
    "import numpy as np\n",
    "import torch\n",
    "import sys\n",
    "import os\n",
    "py_file_location = \"/content/myConv.py\"\n",
    "sys.path.append(os.path.abspath(py_file_location))\n",
    "from myConv import myConv2d\n",
    "\n",
    "tensor2 = torch.rand(3, 10, 10)\n",
    "\n",
    "myFunction2 = myConv2d(in_channels=3, out_channels=1, kernel_size=3, stride=1, padding=0, dilation=2, groups=1, bias=True, padding_mode='zeros')\n",
    "result2, kernel2, bias_val2 = myFunction2(tensor2)\n",
    "torchFunction2 = torch.nn.Conv2d(in_channels=3, out_channels=1, kernel_size=3, stride=1, padding=0, dilation=2, groups=1, bias=True, padding_mode='zeros')\n",
    "torchFunction2.weight.data = torch.tensor(kernel2)\n",
    "torchFunction2.bias.data = torch.tensor(bias_val2)\n",
    "\n",
    "print(result2)\n",
    "print('===================================')\n",
    "print(np.array(torchFunction2(tensor2).data))"
   ]
  },
  {
   "cell_type": "code",
   "execution_count": 7,
   "metadata": {
    "colab": {
     "base_uri": "https://localhost:8080/"
    },
    "id": "akNu6MzHwd6o",
    "outputId": "be1173de-6b56-4b20-f169-0c78beb38db4"
   },
   "outputs": [
    {
     "name": "stdout",
     "output_type": "stream",
     "text": [
      "[[[0.17242639]]]\n",
      "===================================\n",
      "[[[0.17242639]]]\n"
     ]
    }
   ],
   "source": [
    "import numpy as np\n",
    "import torch\n",
    "import sys\n",
    "import os\n",
    "\n",
    "py_file_location = \"/content/myConv.py\"\n",
    "sys.path.append(os.path.abspath(py_file_location))\n",
    "from myConv import myConv2d\n",
    "\n",
    "tensor3 = torch.rand(1, 1, 1)\n",
    "\n",
    "myFunction3 = myConv2d(in_channels=1, out_channels=1, kernel_size=1, stride=1, padding=0, dilation=1, groups=1, bias=True, padding_mode='zeros')\n",
    "result3, kernel3, bias_val3 = myFunction3(tensor3)\n",
    "torchFunction3 = torch.nn.Conv2d(in_channels=1, out_channels=1, kernel_size=1, stride=1, padding=0, dilation=1, groups=1, bias=True, padding_mode='zeros')\n",
    "torchFunction3.weight.data = torch.tensor(kernel3)\n",
    "torchFunction3.bias.data = torch.tensor(bias_val3)\n",
    "\n",
    "print(result3)\n",
    "print('===================================')\n",
    "print(np.array(torchFunction3(tensor3).data))"
   ]
  }
 ],
 "metadata": {
  "colab": {
   "provenance": []
  },
  "kernelspec": {
   "display_name": "Python 3 (ipykernel)",
   "language": "python",
   "name": "python3"
  },
  "language_info": {
   "codemirror_mode": {
    "name": "ipython",
    "version": 3
   },
   "file_extension": ".py",
   "mimetype": "text/x-python",
   "name": "python",
   "nbconvert_exporter": "python",
   "pygments_lexer": "ipython3",
   "version": "3.9.13"
  }
 },
 "nbformat": 4,
 "nbformat_minor": 1
}
